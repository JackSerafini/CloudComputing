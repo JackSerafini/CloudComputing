{
 "cells": [
  {
   "cell_type": "code",
   "execution_count": null,
   "metadata": {},
   "outputs": [],
   "source": [
    "import os\n",
    "import pandas as pd\n",
    "import matplotlib.pyplot as plt\n",
    "import seaborn as sns"
   ]
  },
  {
   "cell_type": "markdown",
   "metadata": {},
   "source": [
    "## HPL"
   ]
  },
  {
   "cell_type": "code",
   "execution_count": null,
   "metadata": {},
   "outputs": [],
   "source": [
    "CT1_9984 = pd.read_csv('./avgs/hpl_CT1_9984N_avg.csv')\n",
    "CT1_17664 = pd.read_csv('./avgs/hpl_CT1_17664N_avg.csv')\n",
    "CT2_9984 = pd.read_csv('./avgs/hpl_CT2_9984N_avg.csv')\n",
    "VM_9984 = pd.read_csv('./avgs/hpl_VM_M_9984N_avg.csv')\n",
    "VM_17664 = pd.read_csv('./avgs/hpl_VM_M_17664N_avg.csv')\n",
    "VM1_9984 = pd.read_csv('./avgs/hpl_VM1_9984N_avg.csv')\n",
    "\n",
    "figure, ax = plt.subplots(1, 2, figsize=(12, 6))\n",
    "sns.set_style(\"whitegrid\")\n",
    "sns.set_context(\"paper\")\n",
    "\n",
    "sns.lineplot(x='NB', y='Gflops', data=CT1_9984, ax=ax[0], label='CT1_9984')\n",
    "sns.lineplot(x='NB', y='Gflops', data=CT1_17664, ax=ax[0], label='CT1_17664')\n",
    "sns.lineplot(x='NB', y='Gflops', data=CT2_9984, ax=ax[0], label='CT2_9984')\n",
    "sns.lineplot(x='NB', y='Gflops', data=VM_9984, ax=ax[0], label='VM_9984')"
   ]
  },
  {
   "cell_type": "markdown",
   "metadata": {},
   "source": [
    "## Iperf3"
   ]
  },
  {
   "cell_type": "code",
   "execution_count": null,
   "metadata": {},
   "outputs": [],
   "source": [
    "CT1_client = pd.read_csv('./avgs/iperf_CT1_client_avg.csv')\n",
    "CT1_server = pd.read_csv('./avgs/iperf_CT1_server_avg.csv')\n",
    "CT2_client = pd.read_csv('./avgs/iperf_CT2_client_avg.csv')\n",
    "CT2_server = pd.read_csv('./avgs/iperf_CT2_server_avg.csv')\n",
    "\n",
    "VM_client = pd.read_csv('./avgs/iperf_VM_M_client_avg.csv')\n",
    "VM_server = pd.read_csv('./avgs/iperf_VM_M_server_avg.csv')\n",
    "VM1_client = pd.read_csv('./avgs/iperf_VM1_client_avg.csv')\n",
    "VM1_server = pd.read_csv('./avgs/iperf_VM1_server_avg.csv')\n",
    "\n",
    "# Create the plot\n",
    "figure, axis = plt.subplots(1, 2, figsize=(18, 6))\n",
    "\n",
    "axis[0].plot(CT1_server['second'], CT1_server['bitrate'], label='CT1 Server', color='blue', marker='o')\n",
    "axis[0].plot(CT2_client['second'], CT2_client['bitrate'], label='CT2 Client', color='red', marker='x')\n",
    "axis[0].plot(VM_server['second'], VM_server['bitrate'], label='VM1 Server', color='green', marker='o')\n",
    "axis[0].plot(VM1_client['second'], VM1_client['bitrate'], label='VM2 Client', color='orange', marker='x')\n",
    "axis[0].set_xlabel('Time (s)')\n",
    "axis[0].set_ylabel('Bitrate (Mbps)')\n",
    "axis[0].legend()\n",
    "\n",
    "axis[1].plot(CT2_server['second'], CT2_server['bitrate'], label='CT2 Server', color='red', marker='o')\n",
    "axis[1].plot(CT1_client['second'], CT1_client['bitrate'], label='CT1 Client', color='blue', marker='x')\n",
    "axis[1].plot(VM1_server['second'], VM1_server['bitrate'], label='VM2 Server', color='orange', marker='o')\n",
    "axis[1].plot(VM_client['second'], VM_client['bitrate'], label='VM1 Client', color='green', marker='x')\n",
    "axis[1].set_xlabel('Time (s)')\n",
    "axis[1].set_ylabel('Bitrate (Mbps)')\n",
    "axis[1].legend()\n",
    "\n",
    "# Display the plot\n",
    "plt.tight_layout()\n",
    "plt.show()"
   ]
  },
  {
   "cell_type": "markdown",
   "metadata": {},
   "source": [
    "## Iozone"
   ]
  },
  {
   "cell_type": "code",
   "execution_count": null,
   "metadata": {},
   "outputs": [],
   "source": [
    "CT = pd.read_csv('./avgs/iozone_CT_avg.csv')\n",
    "VM = pd.read_csv('./avgs/iozone_VM_avg.csv')\n",
    "NFS = pd.read_csv('./avgs/iozone_NFS_avg.csv')\n",
    "\n",
    "write_VM = VM.pivot(index=\"Record Length\", columns=\"Size (kB)\", values=\"Write (kB/s)\")\n",
    "write_CT = CT.pivot(index=\"Record Length\", columns=\"Size (kB)\", values=\"Write (kB/s)\")\n",
    "write_NFS = NFS.pivot(index=\"Record Length\", columns=\"Size (kB)\", values=\"Write (kB/s)\")\n",
    "\n",
    "read_VM = VM.pivot(index=\"Record Length\", columns=\"Size (kB)\", values=\"Read (kB/s)\")\n",
    "read_CT = CT.pivot(index=\"Record Length\", columns=\"Size (kB)\", values=\"Read (kB/s)\")\n",
    "read_NFS = NFS.pivot(index=\"Record Length\", columns=\"Size (kB)\", values=\"Read (kB/s)\")\n",
    "\n",
    "vmax = CT[[\"Write (kB/s)\", \"Read (kB/s)\"]].max().max()\n",
    "\n",
    "# Create the heatmap using Seaborn\n",
    "figure, axis = plt.subplots(3, 2, figsize=(18, 18))\n",
    "\n",
    "sns.heatmap(write_VM, ax=axis[0,0], vmin=0, vmax=vmax, annot=True, fmt=\".1g\", cmap=\"Blues\")\n",
    "axis[0,0].set_title(\"VM - Write (kB/s) by Size and Record Length\")\n",
    "axis[0,0].set_xlabel(\"Size (kB)\")\n",
    "axis[0,0].set_ylabel(\"Record Length\")\n",
    "axis[0,0].tick_params(axis='x', rotation=45)\n",
    "\n",
    "sns.heatmap(write_CT, ax=axis[0,1], vmin=0, vmax=vmax, annot=True, fmt=\".1g\", cmap=\"Greens\")\n",
    "axis[0,1].set_title(\"CT - Write (kB/s) by Size and Record Length\")\n",
    "axis[0,1].set_xlabel(\"Size (kB)\")\n",
    "axis[0,1].set_ylabel(\"Record Length\")\n",
    "axis[0,1].tick_params(axis='x', rotation=45)\n",
    "\n",
    "sns.heatmap(read_VM, ax=axis[1,0], vmin=0, vmax=vmax, annot=True, fmt=\".1g\", cmap=\"Blues\")\n",
    "axis[1,0].set_title(\"VM - Read (kB/s) by Size and Record Length\")\n",
    "axis[1,0].set_xlabel(\"Size (kB)\")\n",
    "axis[1,0].set_ylabel(\"Record Length\")\n",
    "axis[1,0].tick_params(axis='x', rotation=45)\n",
    "\n",
    "sns.heatmap(read_CT, ax=axis[1,1], vmin=0, vmax=vmax, annot=True, fmt=\".1g\", cmap=\"Greens\")\n",
    "axis[1,1].set_title(\"CT - Read (kB/s) by Size and Record Length\")\n",
    "axis[1,1].set_xlabel(\"Size (kB)\")\n",
    "axis[1,1].set_ylabel(\"Record Length\")\n",
    "axis[1,1].tick_params(axis='x', rotation=45)\n",
    "\n",
    "sns.heatmap(write_NFS, ax=axis[2,0], vmin=0, vmax=vmax, annot=True, fmt=\".1g\", cmap=\"Reds\")\n",
    "axis[2,0].set_title(\"NFS - Write (kB/s) by Size and Record Length\")\n",
    "axis[2,0].set_xlabel(\"Size (kB)\")\n",
    "axis[2,0].set_ylabel(\"Record Length\")\n",
    "axis[2,0].tick_params(axis='x', rotation=45)\n",
    "\n",
    "sns.heatmap(read_NFS, ax=axis[2,1], vmin=0, vmax=vmax, annot=True, fmt=\".1g\", cmap=\"Reds\")\n",
    "axis[2,1].set_title(\"NFS - Read (kB/s) by Size and Record Length\")\n",
    "axis[2,1].set_xlabel(\"Size (kB)\")\n",
    "axis[2,1].set_ylabel(\"Record Length\")\n",
    "axis[2,1].tick_params(axis='x', rotation=45)\n",
    "\n",
    "plt.tight_layout()\n",
    "plt.show()"
   ]
  },
  {
   "cell_type": "markdown",
   "metadata": {},
   "source": [
    "## Sysbench"
   ]
  },
  {
   "cell_type": "code",
   "execution_count": null,
   "metadata": {},
   "outputs": [],
   "source": []
  }
 ],
 "metadata": {
  "kernelspec": {
   "display_name": "Python 3",
   "language": "python",
   "name": "python3"
  },
  "language_info": {
   "codemirror_mode": {
    "name": "ipython",
    "version": 3
   },
   "file_extension": ".py",
   "mimetype": "text/x-python",
   "name": "python",
   "nbconvert_exporter": "python",
   "pygments_lexer": "ipython3",
   "version": "3.12.9"
  }
 },
 "nbformat": 4,
 "nbformat_minor": 2
}
