{
 "cells": [
  {
   "cell_type": "code",
   "execution_count": null,
   "metadata": {},
   "outputs": [],
   "source": [
    "import os\n",
    "import pandas as pd\n",
    "import matplotlib.pyplot as plt"
   ]
  },
  {
   "cell_type": "code",
   "execution_count": null,
   "metadata": {},
   "outputs": [],
   "source": [
    "# Define the folder containing the averaged CSV files\n",
    "folder_path = './avgs'"
   ]
  },
  {
   "cell_type": "markdown",
   "metadata": {},
   "source": [
    "## Iperf3"
   ]
  },
  {
   "cell_type": "code",
   "execution_count": null,
   "metadata": {},
   "outputs": [],
   "source": [
    "CT1_client = pd.read_csv('./avgs/iperf_CT1_client_avg.csv')\n",
    "CT1_server = pd.read_csv('./avgs/iperf_CT1_server_avg.csv')\n",
    "CT2_client = pd.read_csv('./avgs/iperf_CT2_client_avg.csv')\n",
    "CT2_server = pd.read_csv('./avgs/iperf_CT2_server_avg.csv')\n",
    "\n",
    "VM_client = pd.read_csv('./avgs/iperf_VM_M_client_avg.csv')\n",
    "VM_server = pd.read_csv('./avgs/iperf_VM_M_server_avg.csv')\n",
    "VM1_client = pd.read_csv('./avgs/iperf_VM1_client_avg.csv')\n",
    "VM1_server = pd.read_csv('./avgs/iperf_VM1_server_avg.csv')\n",
    "\n",
    "# Create the plot\n",
    "plt.figure(figsize=(12, 6))\n",
    "\n",
    "plt.subplot(1, 2, 1)\n",
    "plt.plot(CT1_server['second'], CT1_server['bitrate'], label='CT1 Server', color='blue', marker='o')\n",
    "plt.plot(CT2_client['second'], CT2_client['bitrate'], label='CT2 Client', color='red', marker='x')\n",
    "plt.plot(VM_server['second'], VM_server['bitrate'], label='VM1 Server', color='green', marker='o')\n",
    "plt.plot(VM1_client['second'], VM1_client['bitrate'], label='VM2 Client', color='orange', marker='x')\n",
    "plt.xlabel('Time (s)')\n",
    "plt.ylabel('Bitrate (Mbps)')\n",
    "plt.legend()\n",
    "\n",
    "plt.subplot(1, 2, 2)\n",
    "plt.plot(CT1_client['second'], CT1_client['bitrate'], label='CT1 Client', color='blue', marker='x')\n",
    "plt.plot(CT2_server['second'], CT2_server['bitrate'], label='CT2 Server', color='red', marker='o')\n",
    "plt.plot(VM_client['second'], VM_client['bitrate'], label='VM1 Client', color='green', marker='x')\n",
    "plt.plot(VM1_server['second'], VM1_server['bitrate'], label='VM2 Server', color='orange', marker='o')\n",
    "plt.xlabel('Time (s)')\n",
    "plt.ylabel('Bitrate (Mbps)')\n",
    "plt.legend()\n",
    "\n",
    "plt.title('Iperf3: Bitrate Comparison between Containers and Virtual Machines')\n",
    "plt.tight_layout()\n",
    "\n",
    "# Display the plot\n",
    "plt.show()"
   ]
  },
  {
   "cell_type": "markdown",
   "metadata": {},
   "source": [
    "## Iozone"
   ]
  },
  {
   "cell_type": "code",
   "execution_count": null,
   "metadata": {},
   "outputs": [],
   "source": [
    "CT = pd.read_csv('./avgs/iozone_CT_avg.csv')\n",
    "VM = pd.read_csv('./avgs/iozone_VM_avg.csv')\n",
    "NFS = pd.read_csv('./avgs/iozone_NFS_avg.csv')\n",
    "\n",
    "# Create the plot\n",
    "plt.figure(figsize=(12, 6))\n"
   ]
  }
 ],
 "metadata": {
  "kernelspec": {
   "display_name": "Python 3",
   "language": "python",
   "name": "python3"
  },
  "language_info": {
   "codemirror_mode": {
    "name": "ipython",
    "version": 3
   },
   "file_extension": ".py",
   "mimetype": "text/x-python",
   "name": "python",
   "nbconvert_exporter": "python",
   "pygments_lexer": "ipython3",
   "version": "3.12.9"
  }
 },
 "nbformat": 4,
 "nbformat_minor": 2
}
